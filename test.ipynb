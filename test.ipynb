{
 "cells": [
  {
   "cell_type": "code",
   "execution_count": 5,
   "metadata": {},
   "outputs": [],
   "source": [
    "from pymolport.checker import Molport\n",
    "import httpx\n",
    "import json"
   ]
  },
  {
   "cell_type": "code",
   "execution_count": 2,
   "metadata": {},
   "outputs": [],
   "source": [
    "molport = Molport()\n",
    "mol = molport.find('C1=CC=C(C=C1)C(=O)OCC2=CC=CC=C2')"
   ]
  },
  {
   "cell_type": "code",
   "execution_count": 8,
   "metadata": {},
   "outputs": [],
   "source": [
    "import json\n",
    "\n",
    "\n",
    "supp = molport.get_compound_suppliers(mol[0].smiles, as_df=False)\n",
    "with open('suppliers.json', 'w') as fp:\n",
    "    json.dump(supp, fp, indent=2)"
   ]
  },
  {
   "cell_type": "code",
   "execution_count": 45,
   "metadata": {},
   "outputs": [],
   "source": [
    "import httpx\n",
    "\n",
    "username = \"john.spade\"\n",
    "password = \"fasdga34a3\"\n",
    "search_url = 'https://api.molport.com/api/chemical-search/search'\n",
    "payload = {\n",
    "           \"User Name\": username,\n",
    "           \"Authentication Code\": password,\n",
    "           \"Structure\": None,\n",
    "           \"Search Type\": 4,\n",
    "           \"Maximum Search Time\": 60000,\n",
    "           \"Maximum Result Count\": 10000,\n",
    "           \"Chemical Similarity Index\": 0.8\n",
    "        }\n",
    "payload['Structure'] = mol[0].smiles\n",
    "r1 = httpx.post(search_url, json=payload)\n",
    "with open('molport_search_07.json', 'w') as fp:\n",
    "      json.dump(r1.json(), fp, indent=2)\n",
    "\n"
   ]
  },
  {
   "cell_type": "code",
   "execution_count": 6,
   "metadata": {},
   "outputs": [],
   "source": [
    "molport_id_request = 'https://api.molport.com/api/molecule/load?' \\\n",
    "                             'molecule={}' \\\n",
    "                             '&username=john.spade' \\\n",
    "                             '&authenticationcode=fasdga34a3'\n",
    "r = httpx.get(molport_id_request.format(mol[0].molport_id))"
   ]
  },
  {
   "cell_type": "code",
   "execution_count": 7,
   "metadata": {},
   "outputs": [],
   "source": [
    "with open('molport_id.json', 'w') as fp:\n",
    "    json.dump(r.json(), fp, indent=2)"
   ]
  },
  {
   "cell_type": "code",
   "execution_count": 41,
   "metadata": {},
   "outputs": [],
   "source": [
    "from typing import List\n",
    "from pydantic import BaseModel, Field\n",
    "\n",
    "class Molecule(BaseModel):\n",
    "    Id: int\n",
    "    molport_id: str = Field(..., alias='MolPort Id')\n",
    "    smiles: str = Field(alias='Canonical SMILES')\n",
    "\n",
    "class Data(BaseModel):\n",
    "    Molecules: List[Molecule]\n",
    "    Version: str\n",
    "\n",
    "class Result(BaseModel):\n",
    "    Status: int\n",
    "    Message: str\n",
    "\n",
    "class Response(BaseModel):\n",
    "    Result: Result\n",
    "    Data: Data"
   ]
  },
  {
   "cell_type": "code",
   "execution_count": 46,
   "metadata": {},
   "outputs": [],
   "source": [
    "with open('molport_search_07.json', 'r') as fp:\n",
    "    data = json.load(fp)\n",
    "    molport_search = Response(**data)"
   ]
  },
  {
   "cell_type": "code",
   "execution_count": 47,
   "metadata": {},
   "outputs": [
    {
     "name": "stdout",
     "output_type": "stream",
     "text": [
      "Molport-001-740-297 O=C(OCc1ccccc1)c1ccccc1\n",
      "Molport-001-779-704 O=C(OC(=O)c1ccccc1)c1ccccc1\n",
      "Molport-000-579-604 Cc1ccc(cc1)C(=O)OCc1ccccc1\n",
      "Molport-035-790-219 O=Cc1ccc(cc1)C(=O)OCc1ccccc1\n",
      "Molport-001-630-278 CCOC(=O)c1ccc(COC(=O)c2ccc(C=O)cc2)cc1\n",
      "Molport-001-762-647 Cc1ccc(cc1)C(=O)OC(=O)c1ccc(C)cc1\n",
      "Molport-002-258-296 COC(=O)c1ccc(COC(=O)c2ccc(cc2)C(=O)OCc2ccc(cc2)C(=O)OC)cc1\n",
      "Molport-003-804-841 OC(=O)c1ccc(cc1)C(=O)OCc1ccccc1\n",
      "Molport-004-959-762 O=C(OCc1ccccc1)c1ccc(cc1)C(=O)OCc1ccccc1\n",
      "Molport-001-783-862 CCOC(=O)c1ccccc1\n",
      "Molport-004-468-627 CC(=O)OCc1ccc(cc1)C(O)=O\n",
      "Molport-047-351-799 [Cr].[C-]#[O+].[C-]#[O+].[C-]#[O+].CCOC(=O)c1ccccc1\n",
      "Molport-000-583-030 Cc1cccc(c1)C(=O)OCc1ccccc1\n",
      "Molport-051-611-362 O=C(OCc1ccc2ccccc2c1)c1ccccc1\n",
      "Molport-000-882-050 O=C1OCc2ccccc12\n",
      "Molport-002-092-620 O=C(OCc1ccc(cc1)C#N)c1ccccc1\n",
      "Molport-003-910-252 CC(OC(=O)c1ccccc1)c1ccccc1\n",
      "Molport-001-783-863 CCCOC(=O)c1ccccc1\n",
      "Molport-006-112-265 CC(C)(C)OC(=O)c1ccccc1\n",
      "Molport-006-117-713 CCOC(=O)c1ccc(C=O)cc1\n",
      "Molport-022-369-877 O=CCOC(=O)c1ccccc1\n",
      "Molport-001-783-867 CC(=O)OCc1ccccc1\n",
      "Molport-000-146-012 CCOC(=O)c1ccc(C)cc1\n",
      "Molport-000-518-995 Oc1ccc(cc1)C(=O)OCc1ccccc1\n",
      "Molport-002-258-942 COC(=O)c1ccc(COC(=O)c2ccc(cc2)C(C)(C)C)cc1\n",
      "Molport-047-976-101 OCCc1ccc(cc1)C(=O)OCc1ccccc1\n",
      "Molport-003-987-070 CCOC(=O)c1ccc(cc1)C(=O)OCC\n",
      "Molport-006-832-572 CCOC(=O)c1ccc(cc1)C(O)=O\n",
      "Molport-046-196-185 CCOC(=O)c1ccc(cc1)C(=O)OC\n",
      "Molport-003-855-298 CC(C)OC(=O)c1ccccc1\n",
      "Molport-000-583-031 Fc1ccc(cc1)C(=O)OCc1ccccc1\n",
      "Molport-001-762-611 Cc1cccc(c1)C(=O)OC(=O)c1cccc(C)c1\n",
      "Molport-001-798-358 Clc1ccc(COC(=O)c2ccccc2)cc1\n",
      "Molport-001-828-831 Nc1ccc(cc1)C(=O)OCc1ccccc1\n",
      "Molport-002-266-780 Cc1ccc(cc1)C(=O)OCc1ccc(cc1)C#N\n",
      "Molport-044-560-238 Cc1ccccc1C(=O)OC(=O)c1ccccc1C\n"
     ]
    }
   ],
   "source": [
    "for mol in molport_search.Data.Molecules:\n",
    "    print(mol.molport_id, mol.smiles)"
   ]
  }
 ],
 "metadata": {
  "kernelspec": {
   "display_name": "venv",
   "language": "python",
   "name": "python3"
  },
  "language_info": {
   "codemirror_mode": {
    "name": "ipython",
    "version": 3
   },
   "file_extension": ".py",
   "mimetype": "text/x-python",
   "name": "python",
   "nbconvert_exporter": "python",
   "pygments_lexer": "ipython3",
   "version": "3.9.16"
  }
 },
 "nbformat": 4,
 "nbformat_minor": 2
}
